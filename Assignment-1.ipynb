{
 "cells": [
  {
   "cell_type": "code",
   "execution_count": 2,
   "id": "8e610420",
   "metadata": {},
   "outputs": [
    {
     "name": "stdout",
     "output_type": "stream",
     "text": [
      "my name is birjendra shukla.\n",
      "[2, 25, 0.25, 'vishal shukla', (2+3j)]\n",
      "0.25\n",
      "(2, 3, 4, 5, 6, 'vishal shukla')\n"
     ]
    }
   ],
   "source": [
    "#....question no -01....#\n",
    "string=\"my name is birjendra shukla.\"\n",
    "print(string)\n",
    "list_one=[2,25,0.25,'vishal shukla',2+3j]\n",
    "print(list_one)\n",
    "float_one=.25\n",
    "print(float_one)\n",
    "tuple_one=(2,3,4,5,6,'vishal shukla')\n",
    "print(tuple_one)"
   ]
  },
  {
   "cell_type": "code",
   "execution_count": 4,
   "id": "3564346f",
   "metadata": {},
   "outputs": [
    {
     "name": "stdout",
     "output_type": "stream",
     "text": [
      "<class 'str'>\n",
      "<class 'str'>\n",
      "<class 'list'>\n"
     ]
    },
    {
     "data": {
      "text/plain": [
       "float"
      ]
     },
     "execution_count": 4,
     "metadata": {},
     "output_type": "execute_result"
    }
   ],
   "source": [
    "#......question no -02....#\n",
    "var1=\"\"\n",
    "print(type(var1))\n",
    "var2='[Ds,ML,Python]'\n",
    "print(type(var2))\n",
    "var3=['DS','ML','Python']\n",
    "print(type(var3))\n",
    "var4=1.\n",
    "type(var4)"
   ]
  },
  {
   "cell_type": "code",
   "execution_count": 5,
   "id": "4b5ea486",
   "metadata": {},
   "outputs": [
    {
     "name": "stdout",
     "output_type": "stream",
     "text": [
      "1.6666666666666667\n",
      "2\n",
      "1\n",
      "125\n"
     ]
    }
   ],
   "source": [
    "#.....question no -03....#\n",
    "a=5/3\n",
    "print(a)\n",
    "b=5%3\n",
    "print(b)\n",
    "c=5//3\n",
    "print(c)\n",
    "d=5**3\n",
    "print(d)"
   ]
  },
  {
   "cell_type": "code",
   "execution_count": 6,
   "id": "72b64f99",
   "metadata": {},
   "outputs": [
    {
     "name": "stdout",
     "output_type": "stream",
     "text": [
      "10\n",
      "2\n",
      "<class 'int'>\n",
      "45\n",
      "<class 'int'>\n",
      "36\n",
      "<class 'int'>\n",
      "2.05\n",
      "<class 'float'>\n",
      "74\n",
      "<class 'int'>\n",
      "vishal shukla\n",
      "<class 'str'>\n",
      "(2+3j)\n",
      "<class 'complex'>\n",
      "raj\n",
      "<class 'str'>\n",
      "5.5\n",
      "<class 'float'>\n",
      "birjendra\n",
      "<class 'str'>\n"
     ]
    }
   ],
   "source": [
    "#...qustion no-04....#\n",
    "list_one=[2,45,36,2.05,74,'vishal shukla',2+3j,'raj',5.50,'birjendra']\n",
    "print(len(list_one))\n",
    "for i in list_one:\n",
    "    print(i)\n",
    "    print(type(i))"
   ]
  },
  {
   "cell_type": "code",
   "execution_count": 7,
   "id": "68fe6228",
   "metadata": {},
   "outputs": [
    {
     "name": "stdout",
     "output_type": "stream",
     "text": [
      "enter the number:50\n",
      "enter the number:5\n",
      "yes 50 is divisible by 5\n",
      "50 is 10 times divided by 5\n"
     ]
    }
   ],
   "source": [
    "#....question no-05....#\n",
    "a=int(input(\"enter the number:\"))    \n",
    "b=int(input(\"enter the number:\"))\n",
    "count=0\n",
    "if a%b==0:\n",
    "    print(f\"yes {a} is divisible by {b}\")\n",
    "    while a%b==0 and a!=0:\n",
    "        count+=1\n",
    "        a-=b\n",
    "    print(f\"{count*b} is {count} times divided by {b}\")"
   ]
  },
  {
   "cell_type": "code",
   "execution_count": 8,
   "id": "6e2a9c75",
   "metadata": {},
   "outputs": [
    {
     "name": "stdout",
     "output_type": "stream",
     "text": [
      "these element is not divided by 3.\n",
      "these element is not divided by 3.\n",
      "these element is divided by 3.\n",
      "these element is not divided by 3.\n",
      "these element is not divided by 3.\n",
      "these element is divided by 3.\n",
      "these element is not divided by 3.\n",
      "these element is not divided by 3.\n",
      "these element is divided by 3.\n",
      "these element is not divided by 3.\n",
      "these element is not divided by 3.\n",
      "these element is divided by 3.\n",
      "these element is not divided by 3.\n",
      "these element is not divided by 3.\n",
      "these element is divided by 3.\n",
      "these element is not divided by 3.\n",
      "these element is not divided by 3.\n",
      "these element is divided by 3.\n",
      "these element is not divided by 3.\n",
      "these element is not divided by 3.\n",
      "these element is divided by 3.\n",
      "these element is not divided by 3.\n",
      "these element is not divided by 3.\n",
      "these element is divided by 3.\n",
      "these element is not divided by 3.\n"
     ]
    }
   ],
   "source": [
    "#....question no-06....#\n",
    "list_one=list(range(1,26))\n",
    "for i in list_one:\n",
    "    if i%3==0:\n",
    "        print(\"these element is divided by 3.\")\n",
    "    else:\n",
    "        print(\"these element is not divided by 3.\")"
   ]
  },
  {
   "cell_type": "code",
   "execution_count": 9,
   "id": "e9cfdbae",
   "metadata": {},
   "outputs": [
    {
     "name": "stdout",
     "output_type": "stream",
     "text": [
      "[2, 6, 'vishal', 8]\n"
     ]
    },
    {
     "ename": "TypeError",
     "evalue": "'str' object does not support item assignment",
     "output_type": "error",
     "traceback": [
      "\u001b[1;31m---------------------------------------------------------------------------\u001b[0m",
      "\u001b[1;31mTypeError\u001b[0m                                 Traceback (most recent call last)",
      "\u001b[1;32m~\\AppData\\Local\\Temp\\ipykernel_2672\\3068391408.py\u001b[0m in \u001b[0;36m<module>\u001b[1;34m\u001b[0m\n\u001b[0;32m      4\u001b[0m \u001b[0mprint\u001b[0m\u001b[1;33m(\u001b[0m\u001b[0mnum_list\u001b[0m\u001b[1;33m)\u001b[0m\u001b[1;33m\u001b[0m\u001b[1;33m\u001b[0m\u001b[0m\n\u001b[0;32m      5\u001b[0m \u001b[0mnum_str\u001b[0m\u001b[1;33m=\u001b[0m\u001b[1;34m'vishal shukla'\u001b[0m  \u001b[1;31m#..immuteble\u001b[0m\u001b[1;33m\u001b[0m\u001b[1;33m\u001b[0m\u001b[0m\n\u001b[1;32m----> 6\u001b[1;33m \u001b[0mnum_str\u001b[0m\u001b[1;33m[\u001b[0m\u001b[1;36m0\u001b[0m\u001b[1;33m]\u001b[0m\u001b[1;33m=\u001b[0m\u001b[1;34m'b'\u001b[0m\u001b[1;33m\u001b[0m\u001b[1;33m\u001b[0m\u001b[0m\n\u001b[0m\u001b[0;32m      7\u001b[0m \u001b[0mprint\u001b[0m\u001b[1;33m(\u001b[0m\u001b[0mnum_str\u001b[0m\u001b[1;33m)\u001b[0m   \u001b[1;31m#...in this code is also genrated error because str is a immuteble.\u001b[0m\u001b[1;33m\u001b[0m\u001b[1;33m\u001b[0m\u001b[0m\n",
      "\u001b[1;31mTypeError\u001b[0m: 'str' object does not support item assignment"
     ]
    }
   ],
   "source": [
    "#....question no-07....#\n",
    "num_list=[2,6,'vishal'] # it is muteble.\n",
    "num_list.append(8)\n",
    "print(num_list)\n",
    "num_str='vishal shukla'  #..immuteble\n",
    "num_str[0]='b'\n",
    "print(num_str)   #...in this code is also genrated error because str is a immuteble."
   ]
  },
  {
   "cell_type": "code",
   "execution_count": null,
   "id": "62bf64d2",
   "metadata": {},
   "outputs": [],
   "source": []
  }
 ],
 "metadata": {
  "kernelspec": {
   "display_name": "Python 3 (ipykernel)",
   "language": "python",
   "name": "python3"
  },
  "language_info": {
   "codemirror_mode": {
    "name": "ipython",
    "version": 3
   },
   "file_extension": ".py",
   "mimetype": "text/x-python",
   "name": "python",
   "nbconvert_exporter": "python",
   "pygments_lexer": "ipython3",
   "version": "3.9.13"
  }
 },
 "nbformat": 4,
 "nbformat_minor": 5
}
